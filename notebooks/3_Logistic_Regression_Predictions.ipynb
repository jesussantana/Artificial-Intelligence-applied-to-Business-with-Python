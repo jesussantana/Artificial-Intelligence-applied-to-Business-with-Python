{
 "metadata": {
  "language_info": {
   "codemirror_mode": {
    "name": "ipython",
    "version": 3
   },
   "file_extension": ".py",
   "mimetype": "text/x-python",
   "name": "python",
   "nbconvert_exporter": "python",
   "pygments_lexer": "ipython3",
   "version": 3
  },
  "orig_nbformat": 2
 },
 "nbformat": 4,
 "nbformat_minor": 2,
 "cells": [
  {
   "cell_type": "code",
   "execution_count": null,
   "metadata": {},
   "outputs": [],
   "source": [
    "# Logistic Regression Predictions\n",
    "# ==============================================================================\n",
    "\n",
    "import pandas as pd\n",
    "from sklearn.linear_model import LogisticRegression\n",
    "from sklearn.model_selection import train_test_split\n",
    "from sklearn import metrics\n",
    "from sklearn import linear_model\n",
    "\n",
    "# Data extraction\n",
    "# ==============================================================================\n",
    "\n",
    "datos = pd.read_csv(\"../data/raw/banquero.csv\")\n",
    "dataframe = pd.DataFrame(datos)\n",
    "print(datos)\n",
    "\n",
    "X = (dataframe[[\"abierta\",\"moroso\",\"trabajo\"]])\n",
    "y = (dataframe[\"resultado\"])\n",
    "\n",
    "# Training\n",
    "# ==============================================================================\n",
    "\n",
    "X_train,X_test,y_train,y_test = train_test_split(X,y,test_size=0.25,random_state=0)\n",
    "model= LogisticRegression()\n",
    "model.fit(X_train,y_train)\n",
    "datanew = {'abierta': [0],\n",
    "                  'moroso': [1],\n",
    "                  'trabajo': [1]\n",
    "                  }\n",
    "\n",
    "clientesnew = pd.DataFrame(datanew,columns= ['abierta', 'moroso','trabajo'])\n",
    "prediccion=model.predict(clientesnew)\n",
    "print (clientesnew)\n",
    "print (prediccion)"
   ]
  }
 ]
}