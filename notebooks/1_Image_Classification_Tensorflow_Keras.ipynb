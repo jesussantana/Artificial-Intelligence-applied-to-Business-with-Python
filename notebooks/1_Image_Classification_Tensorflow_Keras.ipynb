{
 "metadata": {
  "language_info": {
   "codemirror_mode": {
    "name": "ipython",
    "version": 3
   },
   "file_extension": ".py",
   "mimetype": "text/x-python",
   "name": "python",
   "nbconvert_exporter": "python",
   "pygments_lexer": "ipython3",
   "version": "3.8.5"
  },
  "orig_nbformat": 2,
  "kernelspec": {
   "name": "python385jvsc74a57bd031f2aee4e71d21fbe5cf8b01ff0e069b9275f58929596ceb00d14d90e3e16cd6",
   "display_name": "Python 3.8.5 64-bit"
  },
  "metadata": {
   "interpreter": {
    "hash": "31f2aee4e71d21fbe5cf8b01ff0e069b9275f58929596ceb00d14d90e3e16cd6"
   }
  }
 },
 "nbformat": 4,
 "nbformat_minor": 2,
 "cells": [
  {
   "cell_type": "code",
   "execution_count": null,
   "metadata": {},
   "outputs": [],
   "source": [
    "# Image classification with Tensorflow and Keras\n",
    "# ==============================================================================\n",
    "\n",
    "import numpy\n",
    "import tensorflow as tf\n",
    "import keras\n",
    "from keras.preprocessing import image\n",
    "from keras.applications.inception_v3 import InceptionV3, decode_predictions\n",
    "\n",
    "# Create Instance\n",
    "# ==============================================================================\n",
    "\n",
    "iv3 = InceptionV3()\n",
    "\n",
    "# Upload image\n",
    "# ==============================================================================\n",
    "#from google.colab import files \n",
    "#uploaded = files.upload()\n",
    "\n",
    "x = image.img_to_array(image.load_img(\"../reports/figures/car.jpg\", target_size=(299,299)))\n",
    "\n",
    "# Create Dimensions\n",
    "# ==============================================================================\n",
    "\n",
    "x = x.reshape([1, x.shape[0], x.shape[1], x.shape[2]])\n",
    "\n",
    "# Analyze the image with predict\n",
    "# ==============================================================================\n",
    "\n",
    "keras.applications.inception_v3.preprocess_input(x)\n",
    "y = iv3.predict(x)\n",
    "\n",
    "# Show result\n",
    "# ==============================================================================\n",
    "\n",
    "print(decode_predictions(y))\n",
    "\n",
    "# Save prediction\n",
    "# ==============================================================================\n",
    "\n",
    "data1 = decode_predictions(y)\n",
    "print(\"Image 2 classified as: \")\n",
    "print(data1[0][0])"
   ]
  }
 ]
}